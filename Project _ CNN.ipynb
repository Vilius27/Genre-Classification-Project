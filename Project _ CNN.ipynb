{
 "cells": [
  {
   "cell_type": "code",
   "execution_count": 9,
   "id": "73bda8a9",
   "metadata": {
    "ExecuteTime": {
     "end_time": "2023-03-25T15:07:21.595660Z",
     "start_time": "2023-03-25T15:07:19.127032Z"
    }
   },
   "outputs": [
    {
     "name": "stderr",
     "output_type": "stream",
     "text": [
      "C:\\Users\\lrsko\\AppData\\Local\\Temp\\ipykernel_788\\2275442566.py:9: MatplotlibDeprecationWarning: The seaborn styles shipped by Matplotlib are deprecated since 3.6, as they no longer correspond to the styles shipped by seaborn. However, they will remain available as 'seaborn-v0_8-<style>'. Alternatively, directly use the seaborn API instead.\n",
      "  ms.use(\"seaborn-muted\")\n"
     ]
    },
    {
     "data": {
      "application/javascript": [
       "\n",
       "            setTimeout(function() {\n",
       "                var nbb_cell_id = 9;\n",
       "                var nbb_unformatted_code = \"# Import libraries\\n\\nimport numpy as np\\nimport pandas as pd\\n\\nimport matplotlib.pyplot as plt\\nimport matplotlib.style as ms\\n\\nms.use(\\\"seaborn-muted\\\")\\n%matplotlib inline\\n\\nimport librosa\\nimport librosa.display\\n\\nimport IPython\\n\\nimport sklearn\\n\\nimport math\\n\\nimport warnings\\n\\nimport seaborn as sns\\n\\nfrom sklearn import preprocessing\\n\\nfrom sklearn.model_selection import train_test_split, GridSearchCV, RandomizedSearchCV\\n\\nfrom sklearn.compose import ColumnTransformer\\n\\nfrom sklearn.ensemble import RandomForestClassifier\\n\\nfrom sklearn.preprocessing import StandardScaler, OneHotEncoder, LabelEncoder\\n\\nfrom sklearn.pipeline import Pipeline\\n\\nfrom sklearn.metrics import (\\n    accuracy_score,\\n    f1_score,\\n    precision_score,\\n    recall_score,\\n    confusion_matrix,\\n    classification_report,\\n    ConfusionMatrixDisplay,\\n)\\n\\nfrom sklearn.decomposition import PCA\\n\\nfrom keras.models import Sequential\\nfrom tensorflow import keras as k\\n\\nimport os\";\n",
       "                var nbb_formatted_code = \"# Import libraries\\n\\nimport numpy as np\\nimport pandas as pd\\n\\nimport matplotlib.pyplot as plt\\nimport matplotlib.style as ms\\n\\nms.use(\\\"seaborn-muted\\\")\\n%matplotlib inline\\n\\nimport librosa\\nimport librosa.display\\n\\nimport IPython\\n\\nimport sklearn\\n\\nimport math\\n\\nimport warnings\\n\\nimport seaborn as sns\\n\\nfrom sklearn import preprocessing\\n\\nfrom sklearn.model_selection import train_test_split, GridSearchCV, RandomizedSearchCV\\n\\nfrom sklearn.compose import ColumnTransformer\\n\\nfrom sklearn.ensemble import RandomForestClassifier\\n\\nfrom sklearn.preprocessing import StandardScaler, OneHotEncoder, LabelEncoder\\n\\nfrom sklearn.pipeline import Pipeline\\n\\nfrom sklearn.metrics import (\\n    accuracy_score,\\n    f1_score,\\n    precision_score,\\n    recall_score,\\n    confusion_matrix,\\n    classification_report,\\n    ConfusionMatrixDisplay,\\n)\\n\\nfrom sklearn.decomposition import PCA\\n\\nfrom keras.models import Sequential\\nfrom tensorflow import keras as k\\n\\nimport os\";\n",
       "                var nbb_cells = Jupyter.notebook.get_cells();\n",
       "                for (var i = 0; i < nbb_cells.length; ++i) {\n",
       "                    if (nbb_cells[i].input_prompt_number == nbb_cell_id) {\n",
       "                        if (nbb_cells[i].get_text() == nbb_unformatted_code) {\n",
       "                             nbb_cells[i].set_text(nbb_formatted_code);\n",
       "                        }\n",
       "                        break;\n",
       "                    }\n",
       "                }\n",
       "            }, 500);\n",
       "            "
      ],
      "text/plain": [
       "<IPython.core.display.Javascript object>"
      ]
     },
     "metadata": {},
     "output_type": "display_data"
    }
   ],
   "source": [
    "# Import libraries\n",
    "\n",
    "import numpy as np\n",
    "import pandas as pd\n",
    "\n",
    "import matplotlib.pyplot as plt\n",
    "import matplotlib.style as ms\n",
    "\n",
    "ms.use(\"seaborn-muted\")\n",
    "%matplotlib inline\n",
    "\n",
    "import itertools\n",
    "\n",
    "import librosa\n",
    "import librosa.display\n",
    "\n",
    "import IPython\n",
    "\n",
    "import sklearn\n",
    "\n",
    "import math\n",
    "\n",
    "import warnings\n",
    "\n",
    "import seaborn as sns\n",
    "\n",
    "from sklearn import preprocessing\n",
    "\n",
    "from sklearn.model_selection import train_test_split, GridSearchCV, RandomizedSearchCV\n",
    "\n",
    "from sklearn.compose import ColumnTransformer\n",
    "\n",
    "from sklearn.ensemble import RandomForestClassifier\n",
    "\n",
    "from sklearn.preprocessing import StandardScaler, OneHotEncoder, LabelEncoder\n",
    "\n",
    "from sklearn.pipeline import Pipeline\n",
    "\n",
    "from sklearn.metrics import (\n",
    "    accuracy_score,\n",
    "    f1_score,\n",
    "    precision_score,\n",
    "    recall_score,\n",
    "    confusion_matrix,\n",
    "    classification_report,\n",
    "    ConfusionMatrixDisplay,\n",
    ")\n",
    "\n",
    "from sklearn.decomposition import PCA\n",
    "\n",
    "from keras.models import Sequential\n",
    "from tensorflow import keras as k\n",
    "\n",
    "import os"
   ]
  },
  {
   "cell_type": "code",
   "execution_count": 2,
   "id": "79882725",
   "metadata": {
    "ExecuteTime": {
     "end_time": "2023-03-25T15:06:46.486000Z",
     "start_time": "2023-03-25T15:06:46.390972Z"
    }
   },
   "outputs": [
    {
     "data": {
      "application/javascript": [
       "\n",
       "            setTimeout(function() {\n",
       "                var nbb_cell_id = 2;\n",
       "                var nbb_unformatted_code = \"# Load nb_black for code formating\\n\\n%load_ext nb_black\";\n",
       "                var nbb_formatted_code = \"# Load nb_black for code formating\\n\\n%load_ext nb_black\";\n",
       "                var nbb_cells = Jupyter.notebook.get_cells();\n",
       "                for (var i = 0; i < nbb_cells.length; ++i) {\n",
       "                    if (nbb_cells[i].input_prompt_number == nbb_cell_id) {\n",
       "                        if (nbb_cells[i].get_text() == nbb_unformatted_code) {\n",
       "                             nbb_cells[i].set_text(nbb_formatted_code);\n",
       "                        }\n",
       "                        break;\n",
       "                    }\n",
       "                }\n",
       "            }, 500);\n",
       "            "
      ],
      "text/plain": [
       "<IPython.core.display.Javascript object>"
      ]
     },
     "metadata": {},
     "output_type": "display_data"
    }
   ],
   "source": [
    "# Load nb_black for code formating\n",
    "\n",
    "%load_ext nb_black"
   ]
  },
  {
   "cell_type": "code",
   "execution_count": 3,
   "id": "aa6c5255",
   "metadata": {
    "ExecuteTime": {
     "end_time": "2023-03-25T15:06:49.558274Z",
     "start_time": "2023-03-25T15:06:48.221085Z"
    }
   },
   "outputs": [
    {
     "data": {
      "application/javascript": [
       "\n",
       "            setTimeout(function() {\n",
       "                var nbb_cell_id = 3;\n",
       "                var nbb_unformatted_code = \"# Create feature list for dataframe\\n\\nfeatures = [\\n    librosa.feature.mfcc,\\n    librosa.feature.chroma_stft,\\n    librosa.feature.chroma_cqt,\\n    librosa.feature.chroma_cens,\\n    librosa.feature.melspectrogram,\\n    librosa.feature.rms,\\n    librosa.feature.spectral_centroid,\\n    librosa.feature.spectral_bandwidth,\\n    librosa.feature.spectral_contrast,\\n    librosa.feature.spectral_rolloff,\\n]\\n\\ngenre_dict = {\\n    \\\"blues\\\": 0,\\n    \\\"classical\\\": 1,\\n    \\\"country\\\": 2,\\n    \\\"disco\\\": 3,\\n    \\\"hiphop\\\": 4,\\n    \\\"jazz\\\": 5,\\n    \\\"metal\\\": 6,\\n    \\\"pop\\\": 7,\\n    \\\"reggae\\\": 8,\\n    \\\"rock\\\": 9,\\n}\\n\\npath_audio_files = \\\"Data/genres_original/\\\"\";\n",
       "                var nbb_formatted_code = \"# Create feature list for dataframe\\n\\nfeatures = [\\n    librosa.feature.mfcc,\\n    librosa.feature.chroma_stft,\\n    librosa.feature.chroma_cqt,\\n    librosa.feature.chroma_cens,\\n    librosa.feature.melspectrogram,\\n    librosa.feature.rms,\\n    librosa.feature.spectral_centroid,\\n    librosa.feature.spectral_bandwidth,\\n    librosa.feature.spectral_contrast,\\n    librosa.feature.spectral_rolloff,\\n]\\n\\ngenre_dict = {\\n    \\\"blues\\\": 0,\\n    \\\"classical\\\": 1,\\n    \\\"country\\\": 2,\\n    \\\"disco\\\": 3,\\n    \\\"hiphop\\\": 4,\\n    \\\"jazz\\\": 5,\\n    \\\"metal\\\": 6,\\n    \\\"pop\\\": 7,\\n    \\\"reggae\\\": 8,\\n    \\\"rock\\\": 9,\\n}\\n\\npath_audio_files = \\\"Data/genres_original/\\\"\";\n",
       "                var nbb_cells = Jupyter.notebook.get_cells();\n",
       "                for (var i = 0; i < nbb_cells.length; ++i) {\n",
       "                    if (nbb_cells[i].input_prompt_number == nbb_cell_id) {\n",
       "                        if (nbb_cells[i].get_text() == nbb_unformatted_code) {\n",
       "                             nbb_cells[i].set_text(nbb_formatted_code);\n",
       "                        }\n",
       "                        break;\n",
       "                    }\n",
       "                }\n",
       "            }, 500);\n",
       "            "
      ],
      "text/plain": [
       "<IPython.core.display.Javascript object>"
      ]
     },
     "metadata": {},
     "output_type": "display_data"
    }
   ],
   "source": [
    "# Create feature list for dataframe\n",
    "\n",
    "features = [\n",
    "    librosa.feature.mfcc,\n",
    "    librosa.feature.chroma_stft,\n",
    "    librosa.feature.chroma_cqt,\n",
    "    librosa.feature.chroma_cens,\n",
    "    librosa.feature.melspectrogram,\n",
    "    librosa.feature.rms,\n",
    "    librosa.feature.spectral_centroid,\n",
    "    librosa.feature.spectral_bandwidth,\n",
    "    librosa.feature.spectral_contrast,\n",
    "    librosa.feature.spectral_rolloff,\n",
    "]\n",
    "\n",
    "genre_dict = {\n",
    "    \"blues\": 0,\n",
    "    \"classical\": 1,\n",
    "    \"country\": 2,\n",
    "    \"disco\": 3,\n",
    "    \"hiphop\": 4,\n",
    "    \"jazz\": 5,\n",
    "    \"metal\": 6,\n",
    "    \"pop\": 7,\n",
    "    \"reggae\": 8,\n",
    "    \"rock\": 9,\n",
    "}\n",
    "\n",
    "path_audio_files = \"Data/genres_original/\""
   ]
  },
  {
   "cell_type": "code",
   "execution_count": 23,
   "id": "a0699169",
   "metadata": {
    "ExecuteTime": {
     "end_time": "2023-03-25T15:14:30.544613Z",
     "start_time": "2023-03-25T15:14:30.522684Z"
    }
   },
   "outputs": [
    {
     "data": {
      "application/javascript": [
       "\n",
       "            setTimeout(function() {\n",
       "                var nbb_cell_id = 23;\n",
       "                var nbb_unformatted_code = \"# Load dataframe from file\\n\\ndf = pd.read_csv(\\\"Features_dataframe.csv\\\")\";\n",
       "                var nbb_formatted_code = \"# Load dataframe from file\\n\\ndf = pd.read_csv(\\\"Features_dataframe.csv\\\")\";\n",
       "                var nbb_cells = Jupyter.notebook.get_cells();\n",
       "                for (var i = 0; i < nbb_cells.length; ++i) {\n",
       "                    if (nbb_cells[i].input_prompt_number == nbb_cell_id) {\n",
       "                        if (nbb_cells[i].get_text() == nbb_unformatted_code) {\n",
       "                             nbb_cells[i].set_text(nbb_formatted_code);\n",
       "                        }\n",
       "                        break;\n",
       "                    }\n",
       "                }\n",
       "            }, 500);\n",
       "            "
      ],
      "text/plain": [
       "<IPython.core.display.Javascript object>"
      ]
     },
     "metadata": {},
     "output_type": "display_data"
    }
   ],
   "source": [
    "# Load dataframe from file\n",
    "\n",
    "df = pd.read_csv(\"Features_dataframe.csv\")"
   ]
  },
  {
   "cell_type": "code",
   "execution_count": 24,
   "id": "7c40810f",
   "metadata": {
    "ExecuteTime": {
     "end_time": "2023-03-25T15:14:31.392990Z",
     "start_time": "2023-03-25T15:14:31.366322Z"
    }
   },
   "outputs": [
    {
     "data": {
      "application/javascript": [
       "\n",
       "            setTimeout(function() {\n",
       "                var nbb_cell_id = 24;\n",
       "                var nbb_unformatted_code = \"# Create X (features dataframe), and y (genre series) for classification\\n\\nX = df.loc[\\n    :,\\n    ~df.columns.isin([\\\"file_name\\\", \\\"genre\\\"]),\\n]\\ny = df[\\\"genre\\\"]\";\n",
       "                var nbb_formatted_code = \"# Create X (features dataframe), and y (genre series) for classification\\n\\nX = df.loc[\\n    :,\\n    ~df.columns.isin([\\\"file_name\\\", \\\"genre\\\"]),\\n]\\ny = df[\\\"genre\\\"]\";\n",
       "                var nbb_cells = Jupyter.notebook.get_cells();\n",
       "                for (var i = 0; i < nbb_cells.length; ++i) {\n",
       "                    if (nbb_cells[i].input_prompt_number == nbb_cell_id) {\n",
       "                        if (nbb_cells[i].get_text() == nbb_unformatted_code) {\n",
       "                             nbb_cells[i].set_text(nbb_formatted_code);\n",
       "                        }\n",
       "                        break;\n",
       "                    }\n",
       "                }\n",
       "            }, 500);\n",
       "            "
      ],
      "text/plain": [
       "<IPython.core.display.Javascript object>"
      ]
     },
     "metadata": {},
     "output_type": "display_data"
    }
   ],
   "source": [
    "# Create X (features dataframe), and y (genre series) for classification\n",
    "\n",
    "X = df.loc[\n",
    "    :,\n",
    "    ~df.columns.isin([\"file_name\", \"genre\"]),\n",
    "]\n",
    "y = df[\"genre\"]"
   ]
  },
  {
   "cell_type": "code",
   "execution_count": 25,
   "id": "472ba4c3",
   "metadata": {
    "ExecuteTime": {
     "end_time": "2023-03-25T15:14:32.265202Z",
     "start_time": "2023-03-25T15:14:32.242278Z"
    }
   },
   "outputs": [
    {
     "data": {
      "application/javascript": [
       "\n",
       "            setTimeout(function() {\n",
       "                var nbb_cell_id = 25;\n",
       "                var nbb_unformatted_code = \"# Labels encoding to numeric values\\n\\nclass_list = df.iloc[:, -1]\\nconvertor = LabelEncoder()\\ny_cnn = convertor.fit_transform(class_list)\";\n",
       "                var nbb_formatted_code = \"# Labels encoding to numeric values\\n\\nclass_list = df.iloc[:, -1]\\nconvertor = LabelEncoder()\\ny_cnn = convertor.fit_transform(class_list)\";\n",
       "                var nbb_cells = Jupyter.notebook.get_cells();\n",
       "                for (var i = 0; i < nbb_cells.length; ++i) {\n",
       "                    if (nbb_cells[i].input_prompt_number == nbb_cell_id) {\n",
       "                        if (nbb_cells[i].get_text() == nbb_unformatted_code) {\n",
       "                             nbb_cells[i].set_text(nbb_formatted_code);\n",
       "                        }\n",
       "                        break;\n",
       "                    }\n",
       "                }\n",
       "            }, 500);\n",
       "            "
      ],
      "text/plain": [
       "<IPython.core.display.Javascript object>"
      ]
     },
     "metadata": {},
     "output_type": "display_data"
    }
   ],
   "source": [
    "# Labels encoding to numeric values\n",
    "\n",
    "class_list = df.iloc[:, -1]\n",
    "convertor = LabelEncoder()\n",
    "y_cnn = convertor.fit_transform(class_list)"
   ]
  },
  {
   "cell_type": "code",
   "execution_count": 26,
   "id": "7923839e",
   "metadata": {
    "ExecuteTime": {
     "end_time": "2023-03-25T15:14:33.283114Z",
     "start_time": "2023-03-25T15:14:33.267158Z"
    }
   },
   "outputs": [
    {
     "data": {
      "application/javascript": [
       "\n",
       "            setTimeout(function() {\n",
       "                var nbb_cell_id = 26;\n",
       "                var nbb_unformatted_code = \"# Train test split\\n\\nX_cnn_train, X_cnn_test, y_cnn_train, y_cnn_test = train_test_split(\\n    X, y_cnn, test_size=0.25, random_state=42, stratify=y_cnn, shuffle=True\\n)\";\n",
       "                var nbb_formatted_code = \"# Train test split\\n\\nX_cnn_train, X_cnn_test, y_cnn_train, y_cnn_test = train_test_split(\\n    X, y_cnn, test_size=0.25, random_state=42, stratify=y_cnn, shuffle=True\\n)\";\n",
       "                var nbb_cells = Jupyter.notebook.get_cells();\n",
       "                for (var i = 0; i < nbb_cells.length; ++i) {\n",
       "                    if (nbb_cells[i].input_prompt_number == nbb_cell_id) {\n",
       "                        if (nbb_cells[i].get_text() == nbb_unformatted_code) {\n",
       "                             nbb_cells[i].set_text(nbb_formatted_code);\n",
       "                        }\n",
       "                        break;\n",
       "                    }\n",
       "                }\n",
       "            }, 500);\n",
       "            "
      ],
      "text/plain": [
       "<IPython.core.display.Javascript object>"
      ]
     },
     "metadata": {},
     "output_type": "display_data"
    }
   ],
   "source": [
    "# Train test split\n",
    "\n",
    "X_cnn_train, X_cnn_test, y_cnn_train, y_cnn_test = train_test_split(\n",
    "    X, y_cnn, test_size=0.25, random_state=42, stratify=y_cnn, shuffle=True\n",
    ")"
   ]
  },
  {
   "cell_type": "code",
   "execution_count": 27,
   "id": "a45cc9ff",
   "metadata": {
    "ExecuteTime": {
     "end_time": "2023-03-25T15:14:34.709607Z",
     "start_time": "2023-03-25T15:14:34.690658Z"
    }
   },
   "outputs": [
    {
     "data": {
      "application/javascript": [
       "\n",
       "            setTimeout(function() {\n",
       "                var nbb_cell_id = 27;\n",
       "                var nbb_unformatted_code = \"# StandardScaler standardizes a features, train and test data transformed separately\\n\\nstandard_scaler = StandardScaler()\\nX_cnn_train = standard_scaler.fit_transform(X_cnn_train)\\nX_cnn_test = standard_scaler.transform(X_cnn_test)\";\n",
       "                var nbb_formatted_code = \"# StandardScaler standardizes a features, train and test data transformed separately\\n\\nstandard_scaler = StandardScaler()\\nX_cnn_train = standard_scaler.fit_transform(X_cnn_train)\\nX_cnn_test = standard_scaler.transform(X_cnn_test)\";\n",
       "                var nbb_cells = Jupyter.notebook.get_cells();\n",
       "                for (var i = 0; i < nbb_cells.length; ++i) {\n",
       "                    if (nbb_cells[i].input_prompt_number == nbb_cell_id) {\n",
       "                        if (nbb_cells[i].get_text() == nbb_unformatted_code) {\n",
       "                             nbb_cells[i].set_text(nbb_formatted_code);\n",
       "                        }\n",
       "                        break;\n",
       "                    }\n",
       "                }\n",
       "            }, 500);\n",
       "            "
      ],
      "text/plain": [
       "<IPython.core.display.Javascript object>"
      ]
     },
     "metadata": {},
     "output_type": "display_data"
    }
   ],
   "source": [
    "# StandardScaler standardizes a features, train and test data transformed separately\n",
    "\n",
    "standard_scaler = StandardScaler()\n",
    "X_cnn_train = standard_scaler.fit_transform(X_cnn_train)\n",
    "X_cnn_test = standard_scaler.transform(X_cnn_test)"
   ]
  },
  {
   "cell_type": "code",
   "execution_count": 39,
   "id": "70289d69",
   "metadata": {
    "ExecuteTime": {
     "end_time": "2023-03-25T19:47:49.315043Z",
     "start_time": "2023-03-25T19:47:49.248946Z"
    }
   },
   "outputs": [
    {
     "data": {
      "application/javascript": [
       "\n",
       "            setTimeout(function() {\n",
       "                var nbb_cell_id = 39;\n",
       "                var nbb_unformatted_code = \"# Function for model training\\n\\ndef trainModel(model, epochs):\\n    batch_size = 32\\n    # callback = myCallback()\\n    model.compile(\\n        optimizer='adam', loss=\\\"sparse_categorical_crossentropy\\\", metrics=\\\"accuracy\\\"\\n    )\\n    return model.fit(\\n        X_cnn_train,\\n        y_cnn_train,\\n        validation_data=(X_cnn_test, y_cnn_test),\\n        epochs=epochs,\\n        batch_size=batch_size,\\n    )\";\n",
       "                var nbb_formatted_code = \"# Function for model training\\n\\n\\ndef trainModel(model, epochs):\\n    batch_size = 32\\n    # callback = myCallback()\\n    model.compile(\\n        optimizer=\\\"adam\\\", loss=\\\"sparse_categorical_crossentropy\\\", metrics=\\\"accuracy\\\"\\n    )\\n    return model.fit(\\n        X_cnn_train,\\n        y_cnn_train,\\n        validation_data=(X_cnn_test, y_cnn_test),\\n        epochs=epochs,\\n        batch_size=batch_size,\\n    )\";\n",
       "                var nbb_cells = Jupyter.notebook.get_cells();\n",
       "                for (var i = 0; i < nbb_cells.length; ++i) {\n",
       "                    if (nbb_cells[i].input_prompt_number == nbb_cell_id) {\n",
       "                        if (nbb_cells[i].get_text() == nbb_unformatted_code) {\n",
       "                             nbb_cells[i].set_text(nbb_formatted_code);\n",
       "                        }\n",
       "                        break;\n",
       "                    }\n",
       "                }\n",
       "            }, 500);\n",
       "            "
      ],
      "text/plain": [
       "<IPython.core.display.Javascript object>"
      ]
     },
     "metadata": {},
     "output_type": "display_data"
    }
   ],
   "source": [
    "# Function for model training\n",
    "\n",
    "\n",
    "def trainModel(model, epochs):\n",
    "    batch_size = 32\n",
    "    # callback = myCallback()\n",
    "    model.compile(\n",
    "        optimizer=\"adam\", loss=\"sparse_categorical_crossentropy\", metrics=\"accuracy\"\n",
    "    )\n",
    "    return model.fit(\n",
    "        X_cnn_train,\n",
    "        y_cnn_train,\n",
    "        validation_data=(X_cnn_test, y_cnn_test),\n",
    "        epochs=epochs,\n",
    "        batch_size=batch_size,\n",
    "    )"
   ]
  },
  {
   "cell_type": "code",
   "execution_count": 29,
   "id": "6c211b2f",
   "metadata": {
    "ExecuteTime": {
     "end_time": "2023-03-25T15:14:44.316160Z",
     "start_time": "2023-03-25T15:14:37.555401Z"
    }
   },
   "outputs": [
    {
     "name": "stdout",
     "output_type": "stream",
     "text": [
      "Model: \"sequential_1\"\n",
      "_________________________________________________________________\n",
      " Layer (type)                Output Shape              Param #   \n",
      "=================================================================\n",
      " dense_4 (Dense)             (None, 24)                936       \n",
      "                                                                 \n",
      " dropout_3 (Dropout)         (None, 24)                0         \n",
      "                                                                 \n",
      " dense_5 (Dense)             (None, 24)                600       \n",
      "                                                                 \n",
      " dropout_4 (Dropout)         (None, 24)                0         \n",
      "                                                                 \n",
      " dense_6 (Dense)             (None, 16)                400       \n",
      "                                                                 \n",
      " dropout_5 (Dropout)         (None, 16)                0         \n",
      "                                                                 \n",
      " dense_7 (Dense)             (None, 10)                170       \n",
      "                                                                 \n",
      "=================================================================\n",
      "Total params: 2,106\n",
      "Trainable params: 2,106\n",
      "Non-trainable params: 0\n",
      "_________________________________________________________________\n",
      "None\n",
      "Epoch 1/100\n",
      "24/24 [==============================] - 1s 7ms/step - loss: 2.4077 - accuracy: 0.0840 - val_loss: 2.2704 - val_accuracy: 0.1800\n",
      "Epoch 2/100\n",
      "24/24 [==============================] - 0s 2ms/step - loss: 2.2758 - accuracy: 0.1587 - val_loss: 2.1891 - val_accuracy: 0.2600\n",
      "Epoch 3/100\n",
      "24/24 [==============================] - 0s 2ms/step - loss: 2.2104 - accuracy: 0.1747 - val_loss: 2.1208 - val_accuracy: 0.3120\n",
      "Epoch 4/100\n",
      "24/24 [==============================] - 0s 2ms/step - loss: 2.1531 - accuracy: 0.2067 - val_loss: 2.0481 - val_accuracy: 0.3440\n",
      "Epoch 5/100\n",
      "24/24 [==============================] - 0s 2ms/step - loss: 2.1088 - accuracy: 0.2467 - val_loss: 1.9760 - val_accuracy: 0.3560\n",
      "Epoch 6/100\n",
      "24/24 [==============================] - 0s 2ms/step - loss: 2.0353 - accuracy: 0.2587 - val_loss: 1.9026 - val_accuracy: 0.3520\n",
      "Epoch 7/100\n",
      "24/24 [==============================] - 0s 2ms/step - loss: 1.9804 - accuracy: 0.2787 - val_loss: 1.8312 - val_accuracy: 0.3560\n",
      "Epoch 8/100\n",
      "24/24 [==============================] - 0s 2ms/step - loss: 1.9156 - accuracy: 0.3013 - val_loss: 1.7664 - val_accuracy: 0.3640\n",
      "Epoch 9/100\n",
      "24/24 [==============================] - 0s 2ms/step - loss: 1.8830 - accuracy: 0.3240 - val_loss: 1.7052 - val_accuracy: 0.3800\n",
      "Epoch 10/100\n",
      "24/24 [==============================] - 0s 2ms/step - loss: 1.8384 - accuracy: 0.3093 - val_loss: 1.6589 - val_accuracy: 0.4080\n",
      "Epoch 11/100\n",
      "24/24 [==============================] - 0s 2ms/step - loss: 1.8150 - accuracy: 0.3347 - val_loss: 1.6181 - val_accuracy: 0.4240\n",
      "Epoch 12/100\n",
      "24/24 [==============================] - 0s 2ms/step - loss: 1.7793 - accuracy: 0.3440 - val_loss: 1.5810 - val_accuracy: 0.4520\n",
      "Epoch 13/100\n",
      "24/24 [==============================] - 0s 2ms/step - loss: 1.7376 - accuracy: 0.3360 - val_loss: 1.5441 - val_accuracy: 0.4600\n",
      "Epoch 14/100\n",
      "24/24 [==============================] - 0s 3ms/step - loss: 1.7109 - accuracy: 0.3800 - val_loss: 1.5056 - val_accuracy: 0.4480\n",
      "Epoch 15/100\n",
      "24/24 [==============================] - 0s 2ms/step - loss: 1.6654 - accuracy: 0.3773 - val_loss: 1.4695 - val_accuracy: 0.4600\n",
      "Epoch 16/100\n",
      "24/24 [==============================] - 0s 2ms/step - loss: 1.6626 - accuracy: 0.3627 - val_loss: 1.4435 - val_accuracy: 0.4960\n",
      "Epoch 17/100\n",
      "24/24 [==============================] - 0s 2ms/step - loss: 1.6202 - accuracy: 0.4107 - val_loss: 1.4090 - val_accuracy: 0.5000\n",
      "Epoch 18/100\n",
      "24/24 [==============================] - 0s 2ms/step - loss: 1.5829 - accuracy: 0.4240 - val_loss: 1.3786 - val_accuracy: 0.5160\n",
      "Epoch 19/100\n",
      "24/24 [==============================] - 0s 3ms/step - loss: 1.5827 - accuracy: 0.4200 - val_loss: 1.3546 - val_accuracy: 0.5120\n",
      "Epoch 20/100\n",
      "24/24 [==============================] - 0s 2ms/step - loss: 1.5937 - accuracy: 0.4227 - val_loss: 1.3412 - val_accuracy: 0.5360\n",
      "Epoch 21/100\n",
      "24/24 [==============================] - 0s 2ms/step - loss: 1.5308 - accuracy: 0.4453 - val_loss: 1.3183 - val_accuracy: 0.5520\n",
      "Epoch 22/100\n",
      "24/24 [==============================] - 0s 2ms/step - loss: 1.5358 - accuracy: 0.4253 - val_loss: 1.3012 - val_accuracy: 0.5560\n",
      "Epoch 23/100\n",
      "24/24 [==============================] - 0s 2ms/step - loss: 1.5235 - accuracy: 0.4187 - val_loss: 1.2782 - val_accuracy: 0.5560\n",
      "Epoch 24/100\n",
      "24/24 [==============================] - 0s 2ms/step - loss: 1.4748 - accuracy: 0.4800 - val_loss: 1.2471 - val_accuracy: 0.5640\n",
      "Epoch 25/100\n",
      "24/24 [==============================] - 0s 2ms/step - loss: 1.4925 - accuracy: 0.4693 - val_loss: 1.2364 - val_accuracy: 0.5720\n",
      "Epoch 26/100\n",
      "24/24 [==============================] - 0s 2ms/step - loss: 1.4907 - accuracy: 0.4533 - val_loss: 1.2218 - val_accuracy: 0.5840\n",
      "Epoch 27/100\n",
      "24/24 [==============================] - 0s 3ms/step - loss: 1.4381 - accuracy: 0.4907 - val_loss: 1.2112 - val_accuracy: 0.5720\n",
      "Epoch 28/100\n",
      "24/24 [==============================] - 0s 3ms/step - loss: 1.4543 - accuracy: 0.4667 - val_loss: 1.2030 - val_accuracy: 0.5920\n",
      "Epoch 29/100\n",
      "24/24 [==============================] - 0s 2ms/step - loss: 1.4479 - accuracy: 0.4747 - val_loss: 1.1878 - val_accuracy: 0.6000\n",
      "Epoch 30/100\n",
      "24/24 [==============================] - 0s 3ms/step - loss: 1.4424 - accuracy: 0.4440 - val_loss: 1.1773 - val_accuracy: 0.6040\n",
      "Epoch 31/100\n",
      "24/24 [==============================] - 0s 2ms/step - loss: 1.4459 - accuracy: 0.4613 - val_loss: 1.1730 - val_accuracy: 0.6080\n",
      "Epoch 32/100\n",
      "24/24 [==============================] - 0s 2ms/step - loss: 1.4100 - accuracy: 0.4907 - val_loss: 1.1598 - val_accuracy: 0.6080\n",
      "Epoch 33/100\n",
      "24/24 [==============================] - 0s 2ms/step - loss: 1.3916 - accuracy: 0.5120 - val_loss: 1.1415 - val_accuracy: 0.6080\n",
      "Epoch 34/100\n",
      "24/24 [==============================] - 0s 2ms/step - loss: 1.3734 - accuracy: 0.5173 - val_loss: 1.1361 - val_accuracy: 0.6200\n",
      "Epoch 35/100\n",
      "24/24 [==============================] - 0s 2ms/step - loss: 1.3445 - accuracy: 0.5173 - val_loss: 1.1149 - val_accuracy: 0.6160\n",
      "Epoch 36/100\n",
      "24/24 [==============================] - 0s 2ms/step - loss: 1.3435 - accuracy: 0.5093 - val_loss: 1.0947 - val_accuracy: 0.6160\n",
      "Epoch 37/100\n",
      "24/24 [==============================] - 0s 2ms/step - loss: 1.3481 - accuracy: 0.5147 - val_loss: 1.0903 - val_accuracy: 0.6080\n",
      "Epoch 38/100\n",
      "24/24 [==============================] - 0s 2ms/step - loss: 1.3422 - accuracy: 0.5107 - val_loss: 1.0959 - val_accuracy: 0.6320\n",
      "Epoch 39/100\n",
      "24/24 [==============================] - 0s 2ms/step - loss: 1.3284 - accuracy: 0.5000 - val_loss: 1.0871 - val_accuracy: 0.6360\n",
      "Epoch 40/100\n",
      "24/24 [==============================] - 0s 2ms/step - loss: 1.3124 - accuracy: 0.5147 - val_loss: 1.0754 - val_accuracy: 0.6440\n",
      "Epoch 41/100\n",
      "24/24 [==============================] - 0s 2ms/step - loss: 1.2722 - accuracy: 0.5613 - val_loss: 1.0577 - val_accuracy: 0.6480\n",
      "Epoch 42/100\n",
      "24/24 [==============================] - 0s 2ms/step - loss: 1.2818 - accuracy: 0.5453 - val_loss: 1.0427 - val_accuracy: 0.6840\n",
      "Epoch 43/100\n",
      "24/24 [==============================] - 0s 2ms/step - loss: 1.2528 - accuracy: 0.5400 - val_loss: 1.0388 - val_accuracy: 0.6560\n",
      "Epoch 44/100\n",
      "24/24 [==============================] - 0s 3ms/step - loss: 1.2137 - accuracy: 0.5533 - val_loss: 1.0251 - val_accuracy: 0.6560\n",
      "Epoch 45/100\n",
      "24/24 [==============================] - 0s 2ms/step - loss: 1.2363 - accuracy: 0.5520 - val_loss: 1.0226 - val_accuracy: 0.6760\n",
      "Epoch 46/100\n",
      "24/24 [==============================] - 0s 3ms/step - loss: 1.2644 - accuracy: 0.5507 - val_loss: 1.0184 - val_accuracy: 0.6760\n",
      "Epoch 47/100\n",
      "24/24 [==============================] - 0s 3ms/step - loss: 1.2012 - accuracy: 0.5760 - val_loss: 1.0194 - val_accuracy: 0.6720\n",
      "Epoch 48/100\n",
      "24/24 [==============================] - 0s 2ms/step - loss: 1.2553 - accuracy: 0.5413 - val_loss: 1.0087 - val_accuracy: 0.6920\n",
      "Epoch 49/100\n"
     ]
    },
    {
     "name": "stdout",
     "output_type": "stream",
     "text": [
      "24/24 [==============================] - 0s 3ms/step - loss: 1.2082 - accuracy: 0.5480 - val_loss: 1.0040 - val_accuracy: 0.6880\n",
      "Epoch 50/100\n",
      "24/24 [==============================] - 0s 2ms/step - loss: 1.2213 - accuracy: 0.5613 - val_loss: 1.0101 - val_accuracy: 0.6920\n",
      "Epoch 51/100\n",
      "24/24 [==============================] - 0s 2ms/step - loss: 1.1977 - accuracy: 0.5560 - val_loss: 1.0041 - val_accuracy: 0.6720\n",
      "Epoch 52/100\n",
      "24/24 [==============================] - 0s 2ms/step - loss: 1.1903 - accuracy: 0.5667 - val_loss: 0.9968 - val_accuracy: 0.6960\n",
      "Epoch 53/100\n",
      "24/24 [==============================] - 0s 2ms/step - loss: 1.1793 - accuracy: 0.5907 - val_loss: 0.9929 - val_accuracy: 0.6760\n",
      "Epoch 54/100\n",
      "24/24 [==============================] - 0s 3ms/step - loss: 1.1604 - accuracy: 0.5667 - val_loss: 0.9811 - val_accuracy: 0.6640\n",
      "Epoch 55/100\n",
      "24/24 [==============================] - 0s 2ms/step - loss: 1.1675 - accuracy: 0.5787 - val_loss: 0.9838 - val_accuracy: 0.6920\n",
      "Epoch 56/100\n",
      "24/24 [==============================] - 0s 2ms/step - loss: 1.1291 - accuracy: 0.5960 - val_loss: 0.9718 - val_accuracy: 0.6960\n",
      "Epoch 57/100\n",
      "24/24 [==============================] - 0s 2ms/step - loss: 1.1863 - accuracy: 0.5693 - val_loss: 0.9703 - val_accuracy: 0.6840\n",
      "Epoch 58/100\n",
      "24/24 [==============================] - 0s 2ms/step - loss: 1.1198 - accuracy: 0.5973 - val_loss: 0.9689 - val_accuracy: 0.6920\n",
      "Epoch 59/100\n",
      "24/24 [==============================] - 0s 3ms/step - loss: 1.1826 - accuracy: 0.5867 - val_loss: 0.9566 - val_accuracy: 0.6920\n",
      "Epoch 60/100\n",
      "24/24 [==============================] - 0s 3ms/step - loss: 1.1322 - accuracy: 0.5973 - val_loss: 0.9481 - val_accuracy: 0.6880\n",
      "Epoch 61/100\n",
      "24/24 [==============================] - 0s 3ms/step - loss: 1.1179 - accuracy: 0.5907 - val_loss: 0.9471 - val_accuracy: 0.6920\n",
      "Epoch 62/100\n",
      "24/24 [==============================] - 0s 2ms/step - loss: 1.1622 - accuracy: 0.5813 - val_loss: 0.9536 - val_accuracy: 0.6880\n",
      "Epoch 63/100\n",
      "24/24 [==============================] - 0s 2ms/step - loss: 1.1649 - accuracy: 0.5693 - val_loss: 0.9489 - val_accuracy: 0.6920\n",
      "Epoch 64/100\n",
      "24/24 [==============================] - 0s 2ms/step - loss: 1.1059 - accuracy: 0.6173 - val_loss: 0.9443 - val_accuracy: 0.6760\n",
      "Epoch 65/100\n",
      "24/24 [==============================] - 0s 2ms/step - loss: 1.1339 - accuracy: 0.6027 - val_loss: 0.9374 - val_accuracy: 0.6960\n",
      "Epoch 66/100\n",
      "24/24 [==============================] - 0s 2ms/step - loss: 1.1050 - accuracy: 0.6053 - val_loss: 0.9409 - val_accuracy: 0.6800\n",
      "Epoch 67/100\n",
      "24/24 [==============================] - 0s 3ms/step - loss: 1.0818 - accuracy: 0.6120 - val_loss: 0.9362 - val_accuracy: 0.7080\n",
      "Epoch 68/100\n",
      "24/24 [==============================] - 0s 3ms/step - loss: 1.0714 - accuracy: 0.6053 - val_loss: 0.9380 - val_accuracy: 0.6920\n",
      "Epoch 69/100\n",
      "24/24 [==============================] - 0s 3ms/step - loss: 1.0890 - accuracy: 0.6107 - val_loss: 0.9339 - val_accuracy: 0.6800\n",
      "Epoch 70/100\n",
      "24/24 [==============================] - 0s 3ms/step - loss: 1.0819 - accuracy: 0.6107 - val_loss: 0.9246 - val_accuracy: 0.7200\n",
      "Epoch 71/100\n",
      "24/24 [==============================] - 0s 3ms/step - loss: 1.0759 - accuracy: 0.6293 - val_loss: 0.9255 - val_accuracy: 0.7040\n",
      "Epoch 72/100\n",
      "24/24 [==============================] - 0s 3ms/step - loss: 1.0627 - accuracy: 0.6227 - val_loss: 0.9236 - val_accuracy: 0.7080\n",
      "Epoch 73/100\n",
      "24/24 [==============================] - 0s 2ms/step - loss: 1.0578 - accuracy: 0.6267 - val_loss: 0.9224 - val_accuracy: 0.7040\n",
      "Epoch 74/100\n",
      "24/24 [==============================] - 0s 2ms/step - loss: 1.1125 - accuracy: 0.6053 - val_loss: 0.9289 - val_accuracy: 0.7000\n",
      "Epoch 75/100\n",
      "24/24 [==============================] - 0s 2ms/step - loss: 1.0368 - accuracy: 0.6320 - val_loss: 0.9189 - val_accuracy: 0.7280\n",
      "Epoch 76/100\n",
      "24/24 [==============================] - 0s 2ms/step - loss: 1.0638 - accuracy: 0.6307 - val_loss: 0.9129 - val_accuracy: 0.7160\n",
      "Epoch 77/100\n",
      "24/24 [==============================] - 0s 2ms/step - loss: 1.0109 - accuracy: 0.6507 - val_loss: 0.9178 - val_accuracy: 0.7000\n",
      "Epoch 78/100\n",
      "24/24 [==============================] - 0s 2ms/step - loss: 1.0738 - accuracy: 0.6240 - val_loss: 0.9165 - val_accuracy: 0.7120\n",
      "Epoch 79/100\n",
      "24/24 [==============================] - 0s 2ms/step - loss: 1.0295 - accuracy: 0.6333 - val_loss: 0.9097 - val_accuracy: 0.7160\n",
      "Epoch 80/100\n",
      "24/24 [==============================] - 0s 2ms/step - loss: 1.0610 - accuracy: 0.6227 - val_loss: 0.9053 - val_accuracy: 0.7200\n",
      "Epoch 81/100\n",
      "24/24 [==============================] - 0s 2ms/step - loss: 1.0186 - accuracy: 0.6360 - val_loss: 0.9119 - val_accuracy: 0.7160\n",
      "Epoch 82/100\n",
      "24/24 [==============================] - 0s 2ms/step - loss: 1.0278 - accuracy: 0.6480 - val_loss: 0.9059 - val_accuracy: 0.7160\n",
      "Epoch 83/100\n",
      "24/24 [==============================] - 0s 2ms/step - loss: 1.0468 - accuracy: 0.6253 - val_loss: 0.9068 - val_accuracy: 0.7240\n",
      "Epoch 84/100\n",
      "24/24 [==============================] - 0s 2ms/step - loss: 1.0089 - accuracy: 0.6480 - val_loss: 0.9024 - val_accuracy: 0.7240\n",
      "Epoch 85/100\n",
      "24/24 [==============================] - 0s 2ms/step - loss: 1.0388 - accuracy: 0.6400 - val_loss: 0.9058 - val_accuracy: 0.7120\n",
      "Epoch 86/100\n",
      "24/24 [==============================] - 0s 2ms/step - loss: 1.0420 - accuracy: 0.6267 - val_loss: 0.8905 - val_accuracy: 0.7120\n",
      "Epoch 87/100\n",
      "24/24 [==============================] - 0s 2ms/step - loss: 1.0532 - accuracy: 0.6240 - val_loss: 0.8894 - val_accuracy: 0.7240\n",
      "Epoch 88/100\n",
      "24/24 [==============================] - 0s 2ms/step - loss: 0.9885 - accuracy: 0.6467 - val_loss: 0.8897 - val_accuracy: 0.7320\n",
      "Epoch 89/100\n",
      "24/24 [==============================] - 0s 2ms/step - loss: 0.9980 - accuracy: 0.6480 - val_loss: 0.8844 - val_accuracy: 0.7240\n",
      "Epoch 90/100\n",
      "24/24 [==============================] - 0s 2ms/step - loss: 0.9650 - accuracy: 0.6453 - val_loss: 0.8987 - val_accuracy: 0.7120\n",
      "Epoch 91/100\n",
      "24/24 [==============================] - 0s 2ms/step - loss: 1.0069 - accuracy: 0.6573 - val_loss: 0.8862 - val_accuracy: 0.7160\n",
      "Epoch 92/100\n",
      "24/24 [==============================] - 0s 2ms/step - loss: 0.9875 - accuracy: 0.6587 - val_loss: 0.8891 - val_accuracy: 0.7000\n",
      "Epoch 93/100\n",
      "24/24 [==============================] - 0s 3ms/step - loss: 0.9703 - accuracy: 0.6587 - val_loss: 0.8756 - val_accuracy: 0.7160\n",
      "Epoch 94/100\n",
      "24/24 [==============================] - 0s 3ms/step - loss: 0.9600 - accuracy: 0.6493 - val_loss: 0.8761 - val_accuracy: 0.7320\n",
      "Epoch 95/100\n",
      "24/24 [==============================] - 0s 2ms/step - loss: 1.0210 - accuracy: 0.6373 - val_loss: 0.8769 - val_accuracy: 0.7280\n",
      "Epoch 96/100\n",
      "24/24 [==============================] - 0s 2ms/step - loss: 0.9376 - accuracy: 0.6893 - val_loss: 0.8797 - val_accuracy: 0.7360\n",
      "Epoch 97/100\n",
      "24/24 [==============================] - 0s 2ms/step - loss: 0.9492 - accuracy: 0.6533 - val_loss: 0.8780 - val_accuracy: 0.7360\n",
      "Epoch 98/100\n",
      "24/24 [==============================] - 0s 2ms/step - loss: 0.9865 - accuracy: 0.6480 - val_loss: 0.8719 - val_accuracy: 0.7440\n",
      "Epoch 99/100\n",
      "24/24 [==============================] - 0s 2ms/step - loss: 0.9711 - accuracy: 0.6613 - val_loss: 0.8780 - val_accuracy: 0.7480\n",
      "Epoch 100/100\n",
      "24/24 [==============================] - 0s 3ms/step - loss: 0.9716 - accuracy: 0.6520 - val_loss: 0.8732 - val_accuracy: 0.7280\n"
     ]
    },
    {
     "data": {
      "application/javascript": [
       "\n",
       "            setTimeout(function() {\n",
       "                var nbb_cell_id = 29;\n",
       "                var nbb_unformatted_code = \"# Model\\n\\nmodel = k.models.Sequential(\\n    [\\n        k.layers.Dense(24, activation=\\\"relu\\\", input_shape=(X_cnn_train.shape[1],)),\\n        k.layers.Dropout(0.2),\\n        k.layers.Dense(24, activation=\\\"relu\\\"),\\n        k.layers.Dropout(0.2),\\n        k.layers.Dense(16, activation=\\\"relu\\\"),\\n        k.layers.Dropout(0.2),\\n        k.layers.Dense(10, activation=\\\"softmax\\\"),\\n    ]\\n)\\n\\nprint(model.summary())\\nmodel_history = trainModel(model=model, epochs=100, optimizer=\\\"adam\\\")\";\n",
       "                var nbb_formatted_code = \"# Model\\n\\nmodel = k.models.Sequential(\\n    [\\n        k.layers.Dense(24, activation=\\\"relu\\\", input_shape=(X_cnn_train.shape[1],)),\\n        k.layers.Dropout(0.2),\\n        k.layers.Dense(24, activation=\\\"relu\\\"),\\n        k.layers.Dropout(0.2),\\n        k.layers.Dense(16, activation=\\\"relu\\\"),\\n        k.layers.Dropout(0.2),\\n        k.layers.Dense(10, activation=\\\"softmax\\\"),\\n    ]\\n)\\n\\nprint(model.summary())\\nmodel_history = trainModel(model=model, epochs=100, optimizer=\\\"adam\\\")\";\n",
       "                var nbb_cells = Jupyter.notebook.get_cells();\n",
       "                for (var i = 0; i < nbb_cells.length; ++i) {\n",
       "                    if (nbb_cells[i].input_prompt_number == nbb_cell_id) {\n",
       "                        if (nbb_cells[i].get_text() == nbb_unformatted_code) {\n",
       "                             nbb_cells[i].set_text(nbb_formatted_code);\n",
       "                        }\n",
       "                        break;\n",
       "                    }\n",
       "                }\n",
       "            }, 500);\n",
       "            "
      ],
      "text/plain": [
       "<IPython.core.display.Javascript object>"
      ]
     },
     "metadata": {},
     "output_type": "display_data"
    }
   ],
   "source": [
    "# Model\n",
    "\n",
    "model = k.models.Sequential(\n",
    "    [\n",
    "        k.layers.Dense(24, activation=\"relu\", input_shape=(X_cnn_train.shape[1],)),\n",
    "        k.layers.Dropout(0.2),\n",
    "        k.layers.Dense(24, activation=\"relu\"),\n",
    "        k.layers.Dropout(0.2),\n",
    "        k.layers.Dense(16, activation=\"relu\"),\n",
    "        k.layers.Dropout(0.2),\n",
    "        k.layers.Dense(10, activation=\"softmax\"),\n",
    "    ]\n",
    ")\n",
    "\n",
    "print(model.summary())\n",
    "model_history = trainModel(model=model, epochs=100)"
   ]
  },
  {
   "cell_type": "code",
   "execution_count": 58,
   "id": "c1a2c82e",
   "metadata": {
    "ExecuteTime": {
     "end_time": "2023-03-25T20:32:36.659053Z",
     "start_time": "2023-03-25T20:32:36.431360Z"
    }
   },
   "outputs": [
    {
     "name": "stdout",
     "output_type": "stream",
     "text": [
      "24/24 [==============================] - 0s 1ms/step - loss: 0.6300 - accuracy: 0.8040\n",
      "8/8 [==============================] - 0s 1ms/step - loss: 0.8732 - accuracy: 0.7280\n"
     ]
    },
    {
     "data": {
      "application/javascript": [
       "\n",
       "            setTimeout(function() {\n",
       "                var nbb_cell_id = 58;\n",
       "                var nbb_unformatted_code = \"# Test / train accuracy\\n\\ntrain_loss, train_acc = model.evaluate(X_cnn_train, y_cnn_train, batch_size=32)\\ntest_loss, test_acc = model.evaluate(X_cnn_test, y_cnn_test, batch_size=32)\";\n",
       "                var nbb_formatted_code = \"# Test / train accuracy\\n\\ntrain_loss, train_acc = model.evaluate(X_cnn_train, y_cnn_train, batch_size=32)\\ntest_loss, test_acc = model.evaluate(X_cnn_test, y_cnn_test, batch_size=32)\";\n",
       "                var nbb_cells = Jupyter.notebook.get_cells();\n",
       "                for (var i = 0; i < nbb_cells.length; ++i) {\n",
       "                    if (nbb_cells[i].input_prompt_number == nbb_cell_id) {\n",
       "                        if (nbb_cells[i].get_text() == nbb_unformatted_code) {\n",
       "                             nbb_cells[i].set_text(nbb_formatted_code);\n",
       "                        }\n",
       "                        break;\n",
       "                    }\n",
       "                }\n",
       "            }, 500);\n",
       "            "
      ],
      "text/plain": [
       "<IPython.core.display.Javascript object>"
      ]
     },
     "metadata": {},
     "output_type": "display_data"
    }
   ],
   "source": [
    "# Test / train accuracy\n",
    "\n",
    "train_loss, train_acc = model.evaluate(X_cnn_train, y_cnn_train, batch_size=32)\n",
    "test_loss, test_acc = model.evaluate(X_cnn_test, y_cnn_test, batch_size=32)\n",
    "# 24/24 [==============================] - 0s 1ms/step - loss: 0.6300 - accuracy: 0.8040\n",
    "# 8/8 [==============================] - 0s 1ms/step - loss: 0.8732 - accuracy: 0.7280"
   ]
  },
  {
   "cell_type": "code",
   "execution_count": 31,
   "id": "86135c49",
   "metadata": {
    "ExecuteTime": {
     "end_time": "2023-03-25T15:14:54.521719Z",
     "start_time": "2023-03-25T15:14:54.130870Z"
    }
   },
   "outputs": [
    {
     "data": {
      "image/png": "[encoded data removed]",
      "text/plain": [
       "<Figure size 640x480 with 1 Axes>"
      ]
     },
     "metadata": {},
     "output_type": "display_data"
    },
    {
     "data": {
      "image/png": "[encoded data removed]",
      "text/plain": [
       "<Figure size 640x480 with 1 Axes>"
      ]
     },
     "metadata": {},
     "output_type": "display_data"
    },
    {
     "data": {
      "application/javascript": [
       "\n",
       "            setTimeout(function() {\n",
       "                var nbb_cell_id = 31;\n",
       "                var nbb_unformatted_code = \"# Plotting Model accuracy and Model loss\\n\\nimport matplotlib.pyplot as plt\\n\\n\\ndef plot_accuracy_hist(model_history, accuracy=\\\"accuracy\\\"):\\n    plt.plot(model_history.history[accuracy])\\n    plt.plot(model_history.history[\\\"val_\\\" + accuracy])\\n    plt.title(\\\"model accuracy\\\")\\n    plt.ylabel(accuracy)\\n    plt.xlabel(\\\"epoch\\\")\\n    plt.legend([\\\"train\\\", \\\"validation\\\"], loc=\\\"upper left\\\")\\n    plt.show()\\n\\n\\ndef plot_loss_hist(model_history):\\n    plt.plot(model_history.history[\\\"loss\\\"])\\n    plt.plot(model_history.history[\\\"val_loss\\\"])\\n    plt.title(\\\"model loss\\\")\\n    plt.ylabel(\\\"loss\\\")\\n    plt.xlabel(\\\"epoch\\\")\\n    plt.legend([\\\"train\\\", \\\"val\\\"], loc=\\\"upper left\\\")\\n    plt.show()\\n\\n\\nplot_accuracy_hist(model_history)\\nplot_loss_hist(model_history)\";\n",
       "                var nbb_formatted_code = \"# Plotting Model accuracy and Model loss\\n\\nimport matplotlib.pyplot as plt\\n\\n\\ndef plot_accuracy_hist(model_history, accuracy=\\\"accuracy\\\"):\\n    plt.plot(model_history.history[accuracy])\\n    plt.plot(model_history.history[\\\"val_\\\" + accuracy])\\n    plt.title(\\\"model accuracy\\\")\\n    plt.ylabel(accuracy)\\n    plt.xlabel(\\\"epoch\\\")\\n    plt.legend([\\\"train\\\", \\\"validation\\\"], loc=\\\"upper left\\\")\\n    plt.show()\\n\\n\\ndef plot_loss_hist(model_history):\\n    plt.plot(model_history.history[\\\"loss\\\"])\\n    plt.plot(model_history.history[\\\"val_loss\\\"])\\n    plt.title(\\\"model loss\\\")\\n    plt.ylabel(\\\"loss\\\")\\n    plt.xlabel(\\\"epoch\\\")\\n    plt.legend([\\\"train\\\", \\\"val\\\"], loc=\\\"upper left\\\")\\n    plt.show()\\n\\n\\nplot_accuracy_hist(model_history)\\nplot_loss_hist(model_history)\";\n",
       "                var nbb_cells = Jupyter.notebook.get_cells();\n",
       "                for (var i = 0; i < nbb_cells.length; ++i) {\n",
       "                    if (nbb_cells[i].input_prompt_number == nbb_cell_id) {\n",
       "                        if (nbb_cells[i].get_text() == nbb_unformatted_code) {\n",
       "                             nbb_cells[i].set_text(nbb_formatted_code);\n",
       "                        }\n",
       "                        break;\n",
       "                    }\n",
       "                }\n",
       "            }, 500);\n",
       "            "
      ],
      "text/plain": [
       "<IPython.core.display.Javascript object>"
      ]
     },
     "metadata": {},
     "output_type": "display_data"
    }
   ],
   "source": [
    "# Plotting Model accuracy and Model loss\n",
    "\n",
    "import matplotlib.pyplot as plt\n",
    "\n",
    "\n",
    "def plot_accuracy_hist(model_history, accuracy=\"accuracy\"):\n",
    "    plt.plot(model_history.history[accuracy])\n",
    "    plt.plot(model_history.history[\"val_\" + accuracy])\n",
    "    plt.title(\"model accuracy\")\n",
    "    plt.ylabel(accuracy)\n",
    "    plt.xlabel(\"epoch\")\n",
    "    plt.legend([\"train\", \"validation\"], loc=\"upper left\")\n",
    "    plt.show()\n",
    "\n",
    "\n",
    "def plot_loss_hist(model_history):\n",
    "    plt.plot(model_history.history[\"loss\"])\n",
    "    plt.plot(model_history.history[\"val_loss\"])\n",
    "    plt.title(\"model loss\")\n",
    "    plt.ylabel(\"loss\")\n",
    "    plt.xlabel(\"epoch\")\n",
    "    plt.legend([\"train\", \"val\"], loc=\"upper left\")\n",
    "    plt.show()\n",
    "\n",
    "\n",
    "plot_accuracy_hist(model_history)\n",
    "plot_loss_hist(model_history)"
   ]
  },
  {
   "cell_type": "code",
   "execution_count": 38,
   "id": "0aac3aea",
   "metadata": {
    "ExecuteTime": {
     "end_time": "2023-03-25T15:17:34.533724Z",
     "start_time": "2023-03-25T15:17:34.454922Z"
    }
   },
   "outputs": [
    {
     "name": "stdout",
     "output_type": "stream",
     "text": [
      "8/8 [==============================] - 0s 856us/step\n"
     ]
    },
    {
     "data": {
      "application/javascript": [
       "\n",
       "            setTimeout(function() {\n",
       "                var nbb_cell_id = 38;\n",
       "                var nbb_unformatted_code = \"y_pred = model.predict(X_cnn_test, batch_size=32)  ## xtest\\nround_y_preds = np.argmax(y_pred, axis=-1)\\ncm = confusion_matrix(y_true=y_cnn_test, y_pred=round_y_preds)\";\n",
       "                var nbb_formatted_code = \"y_pred = model.predict(X_cnn_test, batch_size=32)  ## xtest\\nround_y_preds = np.argmax(y_pred, axis=-1)\\ncm = confusion_matrix(y_true=y_cnn_test, y_pred=round_y_preds)\";\n",
       "                var nbb_cells = Jupyter.notebook.get_cells();\n",
       "                for (var i = 0; i < nbb_cells.length; ++i) {\n",
       "                    if (nbb_cells[i].input_prompt_number == nbb_cell_id) {\n",
       "                        if (nbb_cells[i].get_text() == nbb_unformatted_code) {\n",
       "                             nbb_cells[i].set_text(nbb_formatted_code);\n",
       "                        }\n",
       "                        break;\n",
       "                    }\n",
       "                }\n",
       "            }, 500);\n",
       "            "
      ],
      "text/plain": [
       "<IPython.core.display.Javascript object>"
      ]
     },
     "metadata": {},
     "output_type": "display_data"
    }
   ],
   "source": [
    "y_pred = model.predict(X_cnn_test, batch_size=32)  ## xtest\n",
    "round_y_preds = np.argmax(y_pred, axis=-1)\n",
    "cm = confusion_matrix(y_true=y_cnn_test, y_pred=round_y_preds)"
   ]
  },
  {
   "cell_type": "code",
   "execution_count": 35,
   "id": "eb173f31",
   "metadata": {
    "ExecuteTime": {
     "end_time": "2023-03-25T15:15:14.252937Z",
     "start_time": "2023-03-25T15:15:14.217124Z"
    }
   },
   "outputs": [
    {
     "data": {
      "application/javascript": [
       "\n",
       "            setTimeout(function() {\n",
       "                var nbb_cell_id = 35;\n",
       "                var nbb_unformatted_code = \"def plot_confusion_matrix(\\n    cm, classes, normalize=False, title=\\\"Confusion matrix\\\", cmap=plt.cm.Blues\\n):\\n    \\\"\\\"\\\"\\n    This function prints and plots the confusion matrix.\\n    Normalization can be applied by setting `normalize=True`.\\n    \\\"\\\"\\\"\\n    plt.imshow(cm, interpolation=\\\"nearest\\\", cmap=cmap)\\n    plt.title(title)\\n    plt.colorbar()\\n    tick_marks = np.arange(len(classes))\\n    plt.xticks(tick_marks, classes, rotation=45)\\n    plt.yticks(tick_marks, classes)\\n\\n    if normalize:\\n        cm = cm.astype(\\\"float\\\") / cm.sum(axis=1)[:, np.newaxis]\\n        print(\\\"Normalized confusion matrix\\\")\\n    else:\\n        print(\\\"Confusion matrix, without normalization\\\")\\n\\n    print(cm)\\n\\n    thresh = cm.max() / 2.0\\n    for i, j in itertools.product(range(cm.shape[0]), range(cm.shape[1])):\\n        plt.text(\\n            j,\\n            i,\\n            cm[i, j],\\n            horizontalalignment=\\\"center\\\",\\n            color=\\\"white\\\" if cm[i, j] > thresh else \\\"black\\\",\\n        )\\n\\n    plt.tight_layout()\\n    plt.ylabel(\\\"True label\\\")\\n    plt.xlabel(\\\"Predicted label\\\")\";\n",
       "                var nbb_formatted_code = \"def plot_confusion_matrix(\\n    cm, classes, normalize=False, title=\\\"Confusion matrix\\\", cmap=plt.cm.Blues\\n):\\n    \\\"\\\"\\\"\\n    This function prints and plots the confusion matrix.\\n    Normalization can be applied by setting `normalize=True`.\\n    \\\"\\\"\\\"\\n    plt.imshow(cm, interpolation=\\\"nearest\\\", cmap=cmap)\\n    plt.title(title)\\n    plt.colorbar()\\n    tick_marks = np.arange(len(classes))\\n    plt.xticks(tick_marks, classes, rotation=45)\\n    plt.yticks(tick_marks, classes)\\n\\n    if normalize:\\n        cm = cm.astype(\\\"float\\\") / cm.sum(axis=1)[:, np.newaxis]\\n        print(\\\"Normalized confusion matrix\\\")\\n    else:\\n        print(\\\"Confusion matrix, without normalization\\\")\\n\\n    print(cm)\\n\\n    thresh = cm.max() / 2.0\\n    for i, j in itertools.product(range(cm.shape[0]), range(cm.shape[1])):\\n        plt.text(\\n            j,\\n            i,\\n            cm[i, j],\\n            horizontalalignment=\\\"center\\\",\\n            color=\\\"white\\\" if cm[i, j] > thresh else \\\"black\\\",\\n        )\\n\\n    plt.tight_layout()\\n    plt.ylabel(\\\"True label\\\")\\n    plt.xlabel(\\\"Predicted label\\\")\";\n",
       "                var nbb_cells = Jupyter.notebook.get_cells();\n",
       "                for (var i = 0; i < nbb_cells.length; ++i) {\n",
       "                    if (nbb_cells[i].input_prompt_number == nbb_cell_id) {\n",
       "                        if (nbb_cells[i].get_text() == nbb_unformatted_code) {\n",
       "                             nbb_cells[i].set_text(nbb_formatted_code);\n",
       "                        }\n",
       "                        break;\n",
       "                    }\n",
       "                }\n",
       "            }, 500);\n",
       "            "
      ],
      "text/plain": [
       "<IPython.core.display.Javascript object>"
      ]
     },
     "metadata": {},
     "output_type": "display_data"
    }
   ],
   "source": [
    "# Function for confusion matrix plot\n",
    "\n",
    "def plot_confusion_matrix(\n",
    "    cm, classes, normalize=False, title=\"Confusion matrix\", cmap=plt.cm.Blues\n",
    "):\n",
    "    \"\"\"\n",
    "    This function prints and plots the confusion matrix.\n",
    "    Normalization can be applied by setting `normalize=True`.\n",
    "    \"\"\"\n",
    "    plt.imshow(cm, interpolation=\"nearest\", cmap=cmap)\n",
    "    plt.title(title)\n",
    "    plt.colorbar()\n",
    "    tick_marks = np.arange(len(classes))\n",
    "    plt.xticks(tick_marks, classes, rotation=45)\n",
    "    plt.yticks(tick_marks, classes)\n",
    "\n",
    "    if normalize:\n",
    "        cm = cm.astype(\"float\") / cm.sum(axis=1)[:, np.newaxis]\n",
    "        print(\"Normalized confusion matrix\")\n",
    "    else:\n",
    "        print(\"Confusion matrix, without normalization\")\n",
    "\n",
    "    print(cm)\n",
    "\n",
    "    thresh = cm.max() / 2.0\n",
    "    for i, j in itertools.product(range(cm.shape[0]), range(cm.shape[1])):\n",
    "        plt.text(\n",
    "            j,\n",
    "            i,\n",
    "            cm[i, j],\n",
    "            horizontalalignment=\"center\",\n",
    "            color=\"white\" if cm[i, j] > thresh else \"black\",\n",
    "        )\n",
    "\n",
    "    plt.tight_layout()\n",
    "    plt.ylabel(\"True label\")\n",
    "    plt.xlabel(\"Predicted label\")"
   ]
  },
  {
   "cell_type": "code",
   "execution_count": 37,
   "id": "f3a0bd5d",
   "metadata": {
    "ExecuteTime": {
     "end_time": "2023-03-25T15:15:19.434549Z",
     "start_time": "2023-03-25T15:15:19.054523Z"
    }
   },
   "outputs": [
    {
     "name": "stdout",
     "output_type": "stream",
     "text": [
      "Confusion matrix, without normalization\n",
      "[[19  0  0  1  1  0  0  0  3  1]\n",
      " [ 0 24  0  0  0  1  0  0  0  0]\n",
      " [ 0  0 22  1  0  1  0  0  0  1]\n",
      " [ 0  1  1 13  2  0  0  4  2  2]\n",
      " [ 0  0  0  5 14  0  1  0  5  0]\n",
      " [ 1  1  2  0  0 20  0  0  0  1]\n",
      " [ 2  0  0  1  4  0 18  0  0  0]\n",
      " [ 0  0  1  0  1  0  0 21  2  0]\n",
      " [ 0  0  1  0  1  0  0  1 21  1]\n",
      " [ 1  0  7  0  0  2  0  1  4 10]]\n"
     ]
    },
    {
     "data": {
      "image/png": "[encoded data removed]",
      "text/plain": [
       "<Figure size 640x480 with 2 Axes>"
      ]
     },
     "metadata": {},
     "output_type": "display_data"
    },
    {
     "data": {
      "application/javascript": [
       "\n",
       "            setTimeout(function() {\n",
       "                var nbb_cell_id = 37;\n",
       "                var nbb_unformatted_code = \"plot_confusion_matrix(cm=cm, classes=cm_plot_labels, title=\\\"Confusion Matrix\\\")\";\n",
       "                var nbb_formatted_code = \"plot_confusion_matrix(cm=cm, classes=cm_plot_labels, title=\\\"Confusion Matrix\\\")\";\n",
       "                var nbb_cells = Jupyter.notebook.get_cells();\n",
       "                for (var i = 0; i < nbb_cells.length; ++i) {\n",
       "                    if (nbb_cells[i].input_prompt_number == nbb_cell_id) {\n",
       "                        if (nbb_cells[i].get_text() == nbb_unformatted_code) {\n",
       "                             nbb_cells[i].set_text(nbb_formatted_code);\n",
       "                        }\n",
       "                        break;\n",
       "                    }\n",
       "                }\n",
       "            }, 500);\n",
       "            "
      ],
      "text/plain": [
       "<IPython.core.display.Javascript object>"
      ]
     },
     "metadata": {},
     "output_type": "display_data"
    }
   ],
   "source": [
    "# Plot Confusion Matrix\n",
    "\n",
    "cm_plot_labels = [\n",
    "    \"blues\",\n",
    "    \"classical\",\n",
    "    \"country\",\n",
    "    \"disco\",\n",
    "    \"hiphop\",\n",
    "    \"jazz\",\n",
    "    \"metal\",\n",
    "    \"pop\",\n",
    "    \"reggae\",\n",
    "    \"rock\",\n",
    "]\n",
    "\n",
    "plot_confusion_matrix(cm=cm, classes=cm_plot_labels, title=\"Confusion Matrix\")"
   ]
  }
 ],
 "metadata": {
  "kernelspec": {
   "display_name": "Python 3 (ipykernel)",
   "language": "python",
   "name": "python3"
  },
  "language_info": {
   "codemirror_mode": {
    "name": "ipython",
    "version": 3
   },
   "file_extension": ".py",
   "mimetype": "text/x-python",
   "name": "python",
   "nbconvert_exporter": "python",
   "pygments_lexer": "ipython3",
   "version": "3.10.5"
  },
  "toc": {
   "base_numbering": 1,
   "nav_menu": {},
   "number_sections": true,
   "sideBar": true,
   "skip_h1_title": false,
   "title_cell": "Table of Contents",
   "title_sidebar": "Contents",
   "toc_cell": false,
   "toc_position": {},
   "toc_section_display": true,
   "toc_window_display": false
  }
 },
 "nbformat": 4,
 "nbformat_minor": 5
}
